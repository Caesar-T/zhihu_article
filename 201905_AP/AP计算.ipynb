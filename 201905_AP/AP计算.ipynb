{
 "cells": [
  {
   "cell_type": "markdown",
   "metadata": {},
   "source": [
    "AP概念理解可参考上篇[【目标检测】VOC mAP](https://zhuanlan.zhihu.com/p/67279824)。本篇着重解析AP计算python代码。"
   ]
  },
  {
   "cell_type": "markdown",
   "metadata": {},
   "source": [
    "## Imports"
   ]
  },
  {
   "cell_type": "code",
   "execution_count": 1,
   "metadata": {},
   "outputs": [],
   "source": [
    "import numpy as np"
   ]
  },
  {
   "cell_type": "markdown",
   "metadata": {},
   "source": [
    "## bbox 排序"
   ]
  },
  {
   "cell_type": "markdown",
   "metadata": {},
   "source": [
    "bbox判断为FP/FP的标准有2个：bbox属于某类别得分、bbox与gt的iou，**在满足iou阈值的条件下，bbox得分高优先标记为TP**。\n",
    "\n",
    "例如：对于某gt，其对应2个预测的bbox a和b，bbox a的类别得分是0.8，与该gt的iou是0.6，bbox b的类别得分是0.6，与该gt的iou是0.7，此时应标记bbox a为tp，bbox b为fp。\n",
    "\n",
    "因此，AP计算的第一步，我们先针对每个图片样本，将其预测的bbox（经nms之后的）按类别得分由高到低排列。"
   ]
  },
  {
   "cell_type": "markdown",
   "metadata": {},
   "source": [
    "### 函数"
   ]
  },
  {
   "cell_type": "code",
   "execution_count": 2,
   "metadata": {},
   "outputs": [],
   "source": [
    "def sort_by_score(pred_boxes, pred_labels, pred_scores):\n",
    "    score_seq = [(-score).argsort() for index, score in enumerate(pred_scores)]\n",
    "    pred_boxes = [sample_boxes[mask] for sample_boxes, mask in zip(pred_boxes, score_seq)]\n",
    "    pred_labels = [sample_boxes[mask] for sample_boxes, mask in zip(pred_labels, score_seq)]\n",
    "    pred_scores = [sample_boxes[mask] for sample_boxes, mask in zip(pred_scores, score_seq)]\n",
    "    return pred_boxes, pred_labels, pred_scores"
   ]
  },
  {
   "cell_type": "markdown",
   "metadata": {},
   "source": [
    "### 例子"
   ]
  },
  {
   "cell_type": "code",
   "execution_count": 3,
   "metadata": {},
   "outputs": [
    {
     "name": "stdout",
     "output_type": "stream",
     "text": [
      "[array([[ 1,  9,  9, 12, 32, 43],\n",
      "       [ 1,  2,  3, 12, 32, 48],\n",
      "       [ 1,  2,  6, 22, 42, 11]]), array([[ 1,  2,  3, 22, 42, 13],\n",
      "       [22, 22, 23, 42, 42, 63],\n",
      "       [ 1,  2,  3, 22, 42, 14]])] \n",
      " [array([1, 1, 2]), array([3, 1, 2])] \n",
      " [array([0.8, 0.7, 0.3]), array([0.7, 0.6, 0.2])]\n"
     ]
    }
   ],
   "source": [
    "pred_boxes = [np.array([[1, 2, 3, 12, 32, 48], [1, 9, 9, 12, 32, 43], [1, 2, 6, 22, 42, 11]]),\n",
    "              np.array([[22, 22, 23, 42, 42, 63], [1, 2, 3, 22, 42, 13], [1, 2, 3, 22, 42, 14]])]\n",
    "pred_labels = [np.array([1, 1, 2]), np.array([1, 3, 2])]\n",
    "pred_scores = [np.array([0.7,0.8, 0.3]), np.array([0.6, 0.7, 0.2])]\n",
    "pred_boxes, pred_labels, pred_scores = sort_by_score(pred_boxes, pred_labels, pred_scores)\n",
    "print(pred_boxes, '\\n',pred_labels, '\\n', pred_scores)"
   ]
  },
  {
   "cell_type": "markdown",
   "metadata": {},
   "source": [
    "## iou计算\n",
    "以3d box和gt为例，其iou计算过程如下："
   ]
  },
  {
   "cell_type": "markdown",
   "metadata": {},
   "source": [
    "### 函数"
   ]
  },
  {
   "cell_type": "code",
   "execution_count": 4,
   "metadata": {},
   "outputs": [],
   "source": [
    "def iou_3d(cubes_a, cubes_b):\n",
    "    \"\"\"\n",
    "    numpy 计算IoU\n",
    "    :param cubes_a: [N,(y1,x1,z1,y2,x2,z2)]\n",
    "    :param cubes_b: [M,(y1,x1,z1,y2,x2,z2)]\n",
    "    :return:  IoU [N,M]\n",
    "    \"\"\"\n",
    "    # 扩维\n",
    "    cubes_a = np.expand_dims(cubes_a, axis=1)  # [N,1,4]\n",
    "    cubes_b = np.expand_dims(cubes_b, axis=0)  # [1,M,4]\n",
    "\n",
    "    # 分别计算高度和宽度的交集\n",
    "    overlap = np.maximum(0.0,\n",
    "                         np.minimum(cubes_a[..., 3:], cubes_b[..., 3:]) -\n",
    "                         np.maximum(cubes_a[..., :3], cubes_b[..., :3]))  # [N,M,(h,w,t)]\n",
    "\n",
    "    # 交集\n",
    "    overlap = np.prod(overlap, axis=-1)  # [N,M]\n",
    "\n",
    "    # 计算面积\n",
    "    area_a = np.prod(cubes_a[..., 3:] - cubes_a[..., :3], axis=-1)\n",
    "    area_b = np.prod(cubes_b[..., 3:] - cubes_b[..., :3], axis=-1)\n",
    "\n",
    "    # 交并比\n",
    "    iou = overlap / (area_a + area_b - overlap)\n",
    "    return iou\n"
   ]
  },
  {
   "cell_type": "markdown",
   "metadata": {},
   "source": [
    "### 例子"
   ]
  },
  {
   "cell_type": "code",
   "execution_count": 5,
   "metadata": {},
   "outputs": [],
   "source": [
    "gt_boxes = np.array([[1, 2, 3, 12, 32, 43], [1, 2, 6, 22, 42, 10]])\n",
    "pred_boxes = np.array([[1, 2, 3, 12, 32, 48], [1, 9, 9, 12, 32, 43], [1, 2, 6, 22, 42, 11]])"
   ]
  },
  {
   "cell_type": "code",
   "execution_count": 6,
   "metadata": {},
   "outputs": [
    {
     "data": {
      "text/plain": [
       "array([[0.88888889, 0.65166667, 0.1047619 ],\n",
       "       [0.07815275, 0.02160731, 0.8       ]])"
      ]
     },
     "execution_count": 6,
     "metadata": {},
     "output_type": "execute_result"
    }
   ],
   "source": [
    "iou_3d(gt_boxes,pred_boxes )"
   ]
  },
  {
   "cell_type": "markdown",
   "metadata": {},
   "source": [
    "## 根据PR曲线计算AP\n",
    "以下函数来自[faster rcnn工程](https://github.com/rbgirshick/py-faster-rcnn),写得相当巧妙，通过所有点插值法计算AP。"
   ]
  },
  {
   "cell_type": "markdown",
   "metadata": {},
   "source": [
    "### 函数"
   ]
  },
  {
   "cell_type": "code",
   "execution_count": 7,
   "metadata": {},
   "outputs": [],
   "source": [
    "def _compute_ap(recall, precision):\n",
    "    \"\"\" Compute the average precision, given the recall and precision curves.\n",
    "    Code originally from https://github.com/rbgirshick/py-faster-rcnn.\n",
    "    # Arguments\n",
    "        recall:    The recall curve (list).\n",
    "        precision: The precision curve (list).\n",
    "    # Returns\n",
    "        The average precision as computed in py-faster-rcnn.\n",
    "    \"\"\"\n",
    "    # correct AP calculation\n",
    "    # first append sentinel values at the end\n",
    "    mrec = np.concatenate(([0.], recall, [1.]))\n",
    "    mpre = np.concatenate(([0.], precision, [0.]))\n",
    "\n",
    "    # compute the precision envelope\n",
    "    for i in range(mpre.size - 1, 0, -1):\n",
    "        mpre[i - 1] = np.maximum(mpre[i - 1], mpre[i])\n",
    "\n",
    "    # to calculate area under PR curve, look for points\n",
    "    # where X axis (recall) changes value\n",
    "    i = np.where(mrec[1:] != mrec[:-1])[0]\n",
    "\n",
    "    # and sum (\\Delta recall) * prec\n",
    "    ap = np.sum((mrec[i + 1] - mrec[i]) * mpre[i + 1])\n",
    "    return ap"
   ]
  },
  {
   "cell_type": "markdown",
   "metadata": {},
   "source": [
    "### 例子"
   ]
  },
  {
   "cell_type": "code",
   "execution_count": 8,
   "metadata": {},
   "outputs": [
    {
     "data": {
      "text/plain": [
       "0.41"
      ]
     },
     "execution_count": 8,
     "metadata": {},
     "output_type": "execute_result"
    }
   ],
   "source": [
    "recall = np.array([0.3,0.4,0.6]) \n",
    "precision = np.array([1.,0.5,0.3])\n",
    "_compute_ap(recall, precision)"
   ]
  },
  {
   "cell_type": "markdown",
   "metadata": {},
   "source": [
    "## AP计算主逻辑"
   ]
  },
  {
   "cell_type": "markdown",
   "metadata": {},
   "source": [
    "* 先针对每个图片样本，将其预测的bbox（经nms之后的）按类别得分由高到低排列\n",
    "* 循环存在类别\n",
    "    * 获取某一类对应的样本的gt及其预测的box和score\n",
    "    * 对该类样本循环\n",
    "        * 对样本预测的box循环\n",
    "            * 如果box预测的label在样本中不存在，直接将该box标记为fp\n",
    "            * 根据与gt的iou判断box是tp还是fp，并保证1个gt只有一个tp与之对应\n",
    "            * 将tp、fp、gt的score append到list中\n",
    "        * 将score list由大至小排序，tp list和fp list也相应排序\n",
    "        * 将排序后的tp list和fp list进行累加，并计算得到precision list 和recall list\n",
    "        * 通过precision list 和recall list（即：PR曲线）计算得AP"
   ]
  },
  {
   "cell_type": "markdown",
   "metadata": {},
   "source": [
    "### 函数"
   ]
  },
  {
   "cell_type": "code",
   "execution_count": 9,
   "metadata": {},
   "outputs": [],
   "source": [
    "def eval_ap_3d(gt_boxes, gt_labels, pred_boxes, pred_labels, pred_scores, iou_thread, num_cls):\n",
    "    \"\"\"\n",
    "    :param gt_boxes: list of 2d array,shape[(a,(y1,x1,z1,y2,x2,z2)),(b,(y1,x1,z1,y2,x2,z2))...]\n",
    "    :param gt_labels: list of 1d array,shape[(a),(b)...],value is sparse label index\n",
    "    :param pred_boxes: list of 2d array, shape[(m,(y1,x1,z1,y2,x2,z2)),(n,(y1,x1,z1,y2,x2,z2))...]\n",
    "    :param pred_labels: list of 1d array,shape[(m),(n)...],value is sparse label index\n",
    "    :param pred_scores: list of 1d array,shape[(m),(n)...]\n",
    "    :param iou_thread: eg. 0.5\n",
    "    :param num_cls: eg. 3, 0 for background,only calculate cls index in range(num_cls)[1:]\n",
    "    :return: a dict containing average precision for each cls\n",
    "    \"\"\"\n",
    "    pred_boxes, pred_labels, pred_scores = sort_by_score(pred_boxes, pred_labels, pred_scores)\n",
    "    all_ap = {}\n",
    "    for label in range(num_cls)[1:]:\n",
    "        # get samples with specific label\n",
    "        true_label_loc = [sample_labels == label for sample_labels in gt_labels]\n",
    "        gt_single_cls = [sample_boxes[mask] for sample_boxes, mask in zip(gt_boxes, true_label_loc)]\n",
    "\n",
    "        pred_label_loc = [sample_labels == label for sample_labels in pred_labels]\n",
    "        bbox_single_cls = [sample_boxes[mask] for sample_boxes, mask in zip(pred_boxes, pred_label_loc)]\n",
    "        scores_single_cls = [sample_scores[mask] for sample_scores, mask in zip(pred_scores, pred_label_loc)]\n",
    "\n",
    "        fp = np.zeros((0,))\n",
    "        tp = np.zeros((0,))\n",
    "        scores = np.zeros((0,))\n",
    "        total_gts = 0\n",
    "        # loop for each sample\n",
    "        for sample_gts, sample_pred_box, sample_scores in zip(gt_single_cls, bbox_single_cls, scores_single_cls):\n",
    "            total_gts = total_gts + len(sample_gts)\n",
    "            assigned_gt = []  # one gt can only be assigned to one predicted bbox\n",
    "            # loop for each predicted bbox\n",
    "            for index in range(len(sample_pred_box)):\n",
    "                scores = np.append(scores, sample_scores[index])\n",
    "                if len(sample_gts) == 0:  # if no gts found for the predicted bbox, assign the bbox to fp\n",
    "                    fp = np.append(fp, 1)\n",
    "                    tp = np.append(tp, 0)\n",
    "                    continue\n",
    "                pred_box = np.expand_dims(sample_pred_box[index], axis=0)\n",
    "                iou = iou_3d(sample_gts, pred_box)\n",
    "                gt_for_box = np.argmax(iou, axis=0)\n",
    "                max_overlap = iou[gt_for_box, 0]\n",
    "                if max_overlap >= iou_thread and gt_for_box not in assigned_gt:\n",
    "                    fp = np.append(fp, 0)\n",
    "                    tp = np.append(tp, 1)\n",
    "                    assigned_gt.append(gt_for_box)\n",
    "                else:\n",
    "                    fp = np.append(fp, 1)\n",
    "                    tp = np.append(tp, 0)\n",
    "        # sort by score\n",
    "        indices = np.argsort(-scores) \n",
    "        fp = fp[indices]\n",
    "        tp = tp[indices]\n",
    "        # compute cumulative false positives and true positives\n",
    "        fp = np.cumsum(fp)\n",
    "        tp = np.cumsum(tp)\n",
    "        # compute recall and precision\n",
    "        recall = tp / total_gts\n",
    "        precision = tp / np.maximum(tp + fp, np.finfo(np.float64).eps)\n",
    "        print(recall, precision)\n",
    "        ap = _compute_ap(recall, precision)\n",
    "        all_ap[label] = ap\n",
    "    return all_ap"
   ]
  },
  {
   "cell_type": "markdown",
   "metadata": {},
   "source": [
    "### 例子"
   ]
  },
  {
   "cell_type": "code",
   "execution_count": 10,
   "metadata": {},
   "outputs": [
    {
     "name": "stdout",
     "output_type": "stream",
     "text": [
      "[0.33333333 0.33333333 0.33333333] [1.         0.5        0.33333333]\n",
      "[1. 1.] [1.  0.5]\n",
      "[nan] [0.]\n",
      "AP for all cls: {1: 0.3333333333333333, 2: 1.0, 3: nan}\n"
     ]
    },
    {
     "name": "stderr",
     "output_type": "stream",
     "text": [
      "C:\\Users\\lidan\\Anaconda3\\lib\\site-packages\\ipykernel_launcher.py:57: RuntimeWarning: invalid value encountered in true_divide\n"
     ]
    }
   ],
   "source": [
    "iou_thread = 0.5\n",
    "gt_boxes = [np.array([[1, 2, 3, 12, 32, 43], [1, 2, 3, 12, 32, 42], [1, 2, 6, 22, 42, 10]]),\n",
    "            np.array([[13, 2, 3, 16, 32, 43]])]\n",
    "gt_labels = [np.array([1, 1, 2]), np.array([1])]\n",
    "\n",
    "pred_boxes = [np.array([[1, 2, 3, 12, 32, 48], [1, 9, 9, 12, 32, 43], [1, 2, 6, 22, 42, 11]]),\n",
    "              np.array([[22, 22, 23, 42, 42, 63], [1, 2, 3, 22, 42, 13], [1, 2, 3, 22, 42, 14]])]\n",
    "pred_labels = [np.array([1, 1, 2]), np.array([1, 3, 2])]\n",
    "pred_scores = [np.array([0.7, 0.8, 0.3]), np.array([0.6, 0.7, 0.2])]\n",
    "num_cls = 4\n",
    "pred_boxes, pred_labels, pred_scores = sort_by_score(pred_boxes, pred_labels, pred_scores)\n",
    "all_ap = eval_ap_3d(gt_boxes, gt_labels, pred_boxes, pred_labels, pred_scores, iou_thread, num_cls)\n",
    "print('AP for all cls:', all_ap)"
   ]
  },
  {
   "cell_type": "markdown",
   "metadata": {},
   "source": [
    "## ALL in One"
   ]
  },
  {
   "cell_type": "code",
   "execution_count": 11,
   "metadata": {},
   "outputs": [
    {
     "name": "stdout",
     "output_type": "stream",
     "text": [
      "[0.33333333 0.33333333 0.33333333] [1.         0.5        0.33333333]\n",
      "[1. 1.] [1.  0.5]\n",
      "[nan] [0.]\n",
      "AP for all cls: {1: 0.3333333333333333, 2: 1.0, 3: nan}\n"
     ]
    },
    {
     "name": "stderr",
     "output_type": "stream",
     "text": [
      "C:\\Users\\lidan\\Anaconda3\\lib\\site-packages\\ipykernel_launcher.py:131: RuntimeWarning: invalid value encountered in true_divide\n"
     ]
    }
   ],
   "source": [
    "# -*- coding: utf-8 -*- \n",
    "\"\"\"\n",
    "@project: 201904_dual_shot\n",
    "@file: AP.py\n",
    "@author: danna.li\n",
    "@time: 2019-06-11 18:20\n",
    "@description: \n",
    "\"\"\"\n",
    "\n",
    "import numpy as np\n",
    "\n",
    "\n",
    "def sort_by_score(pred_boxes, pred_labels, pred_scores):\n",
    "    score_seq = [(-score).argsort() for index, score in enumerate(pred_scores)]\n",
    "    pred_boxes = [sample_boxes[mask] for sample_boxes, mask in zip(pred_boxes, score_seq)]\n",
    "    pred_labels = [sample_boxes[mask] for sample_boxes, mask in zip(pred_labels, score_seq)]\n",
    "    pred_scores = [sample_boxes[mask] for sample_boxes, mask in zip(pred_scores, score_seq)]\n",
    "    return pred_boxes, pred_labels, pred_scores\n",
    "\n",
    "\n",
    "def iou_3d(cubes_a, cubes_b):\n",
    "    \"\"\"\n",
    "    numpy 计算IoU\n",
    "    :param cubes_a: [N,(y1,x1,z1,y2,x2,z2)]\n",
    "    :param cubes_b: [M,(y1,x1,z1,y2,x2,z2)]\n",
    "    :return:  IoU [N,M]\n",
    "    \"\"\"\n",
    "    # 扩维\n",
    "    cubes_a = np.expand_dims(cubes_a, axis=1)  # [N,1,4]\n",
    "    cubes_b = np.expand_dims(cubes_b, axis=0)  # [1,M,4]\n",
    "\n",
    "    # 分别计算高度和宽度的交集\n",
    "    overlap = np.maximum(0.0,\n",
    "                         np.minimum(cubes_a[..., 3:], cubes_b[..., 3:]) -\n",
    "                         np.maximum(cubes_a[..., :3], cubes_b[..., :3]))  # [N,M,(h,w,t)]\n",
    "\n",
    "    # 交集\n",
    "    overlap = np.prod(overlap, axis=-1)  # [N,M]\n",
    "\n",
    "    # 计算面积\n",
    "    area_a = np.prod(cubes_a[..., 3:] - cubes_a[..., :3], axis=-1)\n",
    "    area_b = np.prod(cubes_b[..., 3:] - cubes_b[..., :3], axis=-1)\n",
    "\n",
    "    # 交并比\n",
    "    iou = overlap / (area_a + area_b - overlap)\n",
    "    return iou\n",
    "\n",
    "\n",
    "def _compute_ap(recall, precision):\n",
    "    \"\"\" Compute the average precision, given the recall and precision curves.\n",
    "    Code originally from https://github.com/rbgirshick/py-faster-rcnn.\n",
    "    # Arguments\n",
    "        recall:    The recall curve (list).\n",
    "        precision: The precision curve (list).\n",
    "    # Returns\n",
    "        The average precision as computed in py-faster-rcnn.\n",
    "    \"\"\"\n",
    "    # correct AP calculation\n",
    "    # first append sentinel values at the end\n",
    "    mrec = np.concatenate(([0.], recall, [1.]))\n",
    "    mpre = np.concatenate(([0.], precision, [0.]))\n",
    "\n",
    "    # compute the precision envelope\n",
    "    for i in range(mpre.size - 1, 0, -1):\n",
    "        mpre[i - 1] = np.maximum(mpre[i - 1], mpre[i])\n",
    "\n",
    "    # to calculate area under PR curve, look for points\n",
    "    # where X axis (recall) changes value\n",
    "    i = np.where(mrec[1:] != mrec[:-1])[0]\n",
    "\n",
    "    # and sum (\\Delta recall) * prec\n",
    "    ap = np.sum((mrec[i + 1] - mrec[i]) * mpre[i + 1])\n",
    "    return ap\n",
    "\n",
    "\n",
    "def eval_ap_3d(gt_boxes, gt_labels, pred_boxes, pred_labels, pred_scores, iou_thread, num_cls):\n",
    "    \"\"\"\n",
    "    :param gt_boxes: list of 2d array,shape[(a,(y1,x1,z1,y2,x2,z2)),(b,(y1,x1,z1,y2,x2,z2))...]\n",
    "    :param gt_labels: list of 1d array,shape[(a),(b)...],value is sparse label index\n",
    "    :param pred_boxes: list of 2d array, shape[(m,(y1,x1,z1,y2,x2,z2)),(n,(y1,x1,z1,y2,x2,z2))...]\n",
    "    :param pred_labels: list of 1d array,shape[(m),(n)...],value is sparse label index\n",
    "    :param pred_scores: list of 1d array,shape[(m),(n)...]\n",
    "    :param iou_thread: eg. 0.5\n",
    "    :param num_cls: eg. 4, total number of class including background which is equal to 0\n",
    "    :return: a dict containing average precision for each cls\n",
    "    \"\"\"\n",
    "    all_ap = {}\n",
    "    for label in range(num_cls)[1:]:\n",
    "        # get samples with specific label\n",
    "        true_label_loc = [sample_labels == label for sample_labels in gt_labels]\n",
    "        gt_single_cls = [sample_boxes[mask] for sample_boxes, mask in zip(gt_boxes, true_label_loc)]\n",
    "\n",
    "        pred_label_loc = [sample_labels == label for sample_labels in pred_labels]\n",
    "        bbox_single_cls = [sample_boxes[mask] for sample_boxes, mask in zip(pred_boxes, pred_label_loc)]\n",
    "        scores_single_cls = [sample_scores[mask] for sample_scores, mask in zip(pred_scores, pred_label_loc)]\n",
    "\n",
    "        fp = np.zeros((0,))\n",
    "        tp = np.zeros((0,))\n",
    "        scores = np.zeros((0,))\n",
    "        total_gts = 0\n",
    "        # loop for each sample\n",
    "        for sample_gts, sample_pred_box, sample_scores in zip(gt_single_cls, bbox_single_cls, scores_single_cls):\n",
    "            total_gts = total_gts + len(sample_gts)\n",
    "            assigned_gt = []  # one gt can only be assigned to one predicted bbox\n",
    "            # loop for each predicted bbox\n",
    "            for index in range(len(sample_pred_box)):\n",
    "                scores = np.append(scores, sample_scores[index])\n",
    "                if len(sample_gts) == 0:  # if no gts found for the predicted bbox, assign the bbox to fp\n",
    "                    fp = np.append(fp, 1)\n",
    "                    tp = np.append(tp, 0)\n",
    "                    continue\n",
    "                pred_box = np.expand_dims(sample_pred_box[index], axis=0)\n",
    "                iou = iou_3d(sample_gts, pred_box)\n",
    "                gt_for_box = np.argmax(iou, axis=0)\n",
    "                max_overlap = iou[gt_for_box, 0]\n",
    "                if max_overlap >= iou_thread and gt_for_box not in assigned_gt:\n",
    "                    fp = np.append(fp, 0)\n",
    "                    tp = np.append(tp, 1)\n",
    "                    assigned_gt.append(gt_for_box)\n",
    "                else:\n",
    "                    fp = np.append(fp, 1)\n",
    "                    tp = np.append(tp, 0)\n",
    "        # sort by score\n",
    "        indices = np.argsort(-scores)\n",
    "        fp = fp[indices]\n",
    "        tp = tp[indices]\n",
    "        # compute cumulative false positives and true positives\n",
    "        fp = np.cumsum(fp)\n",
    "        tp = np.cumsum(tp)\n",
    "        # compute recall and precision\n",
    "        recall = tp / total_gts\n",
    "        precision = tp / np.maximum(tp + fp, np.finfo(np.float64).eps)\n",
    "        ap = _compute_ap(recall, precision)\n",
    "        all_ap[label] = ap\n",
    "        print(recall, precision)\n",
    "    return all_ap\n",
    "\n",
    "\n",
    "def test():\n",
    "    iou_thread = 0.5\n",
    "    gt_boxes = [np.array([[1, 2, 3, 12, 32, 43], [1, 2, 3, 12, 32, 42], [1, 2, 6, 22, 42, 10]]),\n",
    "                np.array([[13, 2, 3, 16, 32, 43]])]\n",
    "    gt_labels = [np.array([1, 1, 2]), np.array([1])]\n",
    "\n",
    "    pred_boxes = [np.array([[1, 2, 3, 12, 32, 48], [1, 9, 9, 12, 32, 43], [1, 2, 6, 22, 42, 11]]),\n",
    "                  np.array([[22, 22, 23, 42, 42, 63], [1, 2, 3, 22, 42, 13], [1, 2, 3, 22, 42, 14]])]\n",
    "    pred_labels = [np.array([1, 1, 2]), np.array([1, 3, 2])]\n",
    "    pred_scores = [np.array([0.7, 0.8, 0.3]), np.array([0.6, 0.7, 0.2])]\n",
    "    num_cls = 4\n",
    "    pred_boxes, pred_labels, pred_scores = sort_by_score(pred_boxes, pred_labels, pred_scores)\n",
    "    all_ap = eval_ap_3d(gt_boxes, gt_labels, pred_boxes, pred_labels, pred_scores, iou_thread, num_cls)\n",
    "    print('AP for all cls:', all_ap)\n",
    "\n",
    "\n",
    "if __name__ == '__main__':\n",
    "    test()"
   ]
  },
  {
   "cell_type": "code",
   "execution_count": null,
   "metadata": {},
   "outputs": [],
   "source": []
  }
 ],
 "metadata": {
  "kernelspec": {
   "display_name": "Python 3",
   "language": "python",
   "name": "python3"
  },
  "language_info": {
   "codemirror_mode": {
    "name": "ipython",
    "version": 3
   },
   "file_extension": ".py",
   "mimetype": "text/x-python",
   "name": "python",
   "nbconvert_exporter": "python",
   "pygments_lexer": "ipython3",
   "version": "3.7.3"
  },
  "toc": {
   "base_numbering": 1,
   "nav_menu": {},
   "number_sections": true,
   "sideBar": true,
   "skip_h1_title": false,
   "title_cell": "Table of Contents",
   "title_sidebar": "Contents",
   "toc_cell": false,
   "toc_position": {},
   "toc_section_display": true,
   "toc_window_display": false
  }
 },
 "nbformat": 4,
 "nbformat_minor": 2
}
